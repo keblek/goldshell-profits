{
 "cells": [
  {
   "cell_type": "code",
   "execution_count": 43,
   "source": [
    "import requests\n",
    "from datetime import date\n",
    "import pandas as pd\n",
    "import matplotlib.pyplot as plt\n",
    "import klib\n",
    "from pint import UnitRegistry\n",
    "\n",
    "ureg = UnitRegistry()\n",
    "ureg.default_format = '.2f'\n",
    "ureg.load_definitions('crypto_mining_units.txt')\n",
    "\n",
    "pd.set_option(\"display.max.columns\", None)\n"
   ],
   "outputs": [],
   "metadata": {}
  },
  {
   "cell_type": "code",
   "execution_count": 37,
   "source": [
    "def get_network_data(asset: str, metrics: list = ['HashRate', 'IssTotUSD', 'FeeTotUSD', 'PriceUSD', 'FeeMeanNtv'], end_time: str = date.today().strftime('%Y-%m-%d')):\n",
    "    api_str = f\"https://community-api.coinmetrics.io/v4/timeseries/asset-metrics?assets={asset}&metrics={','.join(metrics)}&end_time={end_time}&page_size=10000&pretty=true\"\n",
    "    response = requests.get(api_str).json()\n",
    "    return pd.DataFrame(response['data'])"
   ],
   "outputs": [],
   "metadata": {}
  },
  {
   "cell_type": "code",
   "execution_count": 38,
   "source": [
    "df_unclean = get_network_data(\"btc\", ['HashRate', 'PriceUSD', 'FeeMeanNtv']).fillna(\"0\")\n",
    "\n",
    "df_cleaned = klib.data_cleaning(df_unclean)\n",
    "\n",
    "df_cleaned.time = df_cleaned.time.str.replace(\"T00:00:00.000000000Z\", \"\")\n",
    "df_cleaned.time = pd.to_datetime(df_cleaned.time)\n",
    "\n",
    "df_cleaned[['hash_rate', 'price_usd']] =  df_cleaned[['hash_rate', 'price_usd']].apply(pd.to_numeric)\n",
    "\n",
    "df_cleaned.index = df_cleaned.time\n",
    "df_cleaned.drop(columns=['time'], inplace=True)\n",
    "\n",
    "df_cleaned.dtypes\n",
    "df = df_cleaned\n",
    "df.to_csv(\"hell\")\n",
    "df"
   ],
   "outputs": [
    {
     "output_type": "stream",
     "name": "stdout",
     "text": [
      "Shape of cleaned data: (4567, 4)Remaining NAs: 0\n",
      "\n",
      "Changes:\n",
      "Dropped rows: 0\n",
      "     of which 0 duplicates. (Rows: [])\n",
      "Dropped columns: 1\n",
      "     of which 1 single valued.     Columns: ['asset']\n",
      "Dropped missing values: 0\n",
      "Reduced memory by at least: -0.16 MB (--94.12%)\n",
      "\n"
     ]
    },
    {
     "output_type": "execute_result",
     "data": {
      "text/plain": [
       "           fee_mean_ntv     hash_rate     price_usd\n",
       "time                                               \n",
       "2009-01-09            0  9.444951e-07      0.000000\n",
       "2009-01-10            0  3.032326e-06      0.000000\n",
       "2009-01-11            0  4.623055e-06      0.000000\n",
       "2009-01-12            0  4.672765e-06      0.000000\n",
       "2009-01-13            0  6.114363e-06      0.000000\n",
       "...                 ...           ...           ...\n",
       "2021-07-07   0.00017001  8.782076e+07  33931.618638\n",
       "2021-07-08   0.00012762  9.924459e+07  32819.659531\n",
       "2021-07-09   0.00011726  9.353267e+07  33914.881074\n",
       "2021-07-10   0.00010185  1.149524e+08  33610.945839\n",
       "2021-07-11   0.00011261  8.924874e+07  34258.441390\n",
       "\n",
       "[4567 rows x 3 columns]"
      ],
      "text/html": [
       "<div>\n",
       "<style scoped>\n",
       "    .dataframe tbody tr th:only-of-type {\n",
       "        vertical-align: middle;\n",
       "    }\n",
       "\n",
       "    .dataframe tbody tr th {\n",
       "        vertical-align: top;\n",
       "    }\n",
       "\n",
       "    .dataframe thead th {\n",
       "        text-align: right;\n",
       "    }\n",
       "</style>\n",
       "<table border=\"1\" class=\"dataframe\">\n",
       "  <thead>\n",
       "    <tr style=\"text-align: right;\">\n",
       "      <th></th>\n",
       "      <th>fee_mean_ntv</th>\n",
       "      <th>hash_rate</th>\n",
       "      <th>price_usd</th>\n",
       "    </tr>\n",
       "    <tr>\n",
       "      <th>time</th>\n",
       "      <th></th>\n",
       "      <th></th>\n",
       "      <th></th>\n",
       "    </tr>\n",
       "  </thead>\n",
       "  <tbody>\n",
       "    <tr>\n",
       "      <th>2009-01-09</th>\n",
       "      <td>0</td>\n",
       "      <td>9.444951e-07</td>\n",
       "      <td>0.000000</td>\n",
       "    </tr>\n",
       "    <tr>\n",
       "      <th>2009-01-10</th>\n",
       "      <td>0</td>\n",
       "      <td>3.032326e-06</td>\n",
       "      <td>0.000000</td>\n",
       "    </tr>\n",
       "    <tr>\n",
       "      <th>2009-01-11</th>\n",
       "      <td>0</td>\n",
       "      <td>4.623055e-06</td>\n",
       "      <td>0.000000</td>\n",
       "    </tr>\n",
       "    <tr>\n",
       "      <th>2009-01-12</th>\n",
       "      <td>0</td>\n",
       "      <td>4.672765e-06</td>\n",
       "      <td>0.000000</td>\n",
       "    </tr>\n",
       "    <tr>\n",
       "      <th>2009-01-13</th>\n",
       "      <td>0</td>\n",
       "      <td>6.114363e-06</td>\n",
       "      <td>0.000000</td>\n",
       "    </tr>\n",
       "    <tr>\n",
       "      <th>...</th>\n",
       "      <td>...</td>\n",
       "      <td>...</td>\n",
       "      <td>...</td>\n",
       "    </tr>\n",
       "    <tr>\n",
       "      <th>2021-07-07</th>\n",
       "      <td>0.00017001</td>\n",
       "      <td>8.782076e+07</td>\n",
       "      <td>33931.618638</td>\n",
       "    </tr>\n",
       "    <tr>\n",
       "      <th>2021-07-08</th>\n",
       "      <td>0.00012762</td>\n",
       "      <td>9.924459e+07</td>\n",
       "      <td>32819.659531</td>\n",
       "    </tr>\n",
       "    <tr>\n",
       "      <th>2021-07-09</th>\n",
       "      <td>0.00011726</td>\n",
       "      <td>9.353267e+07</td>\n",
       "      <td>33914.881074</td>\n",
       "    </tr>\n",
       "    <tr>\n",
       "      <th>2021-07-10</th>\n",
       "      <td>0.00010185</td>\n",
       "      <td>1.149524e+08</td>\n",
       "      <td>33610.945839</td>\n",
       "    </tr>\n",
       "    <tr>\n",
       "      <th>2021-07-11</th>\n",
       "      <td>0.00011261</td>\n",
       "      <td>8.924874e+07</td>\n",
       "      <td>34258.441390</td>\n",
       "    </tr>\n",
       "  </tbody>\n",
       "</table>\n",
       "<p>4567 rows × 3 columns</p>\n",
       "</div>"
      ]
     },
     "metadata": {},
     "execution_count": 38
    }
   ],
   "metadata": {}
  },
  {
   "cell_type": "code",
   "execution_count": 39,
   "source": [
    "def get_latest_price():\n",
    "    return float(df.price_usd.tail(1).values)\n",
    "def get_latest_hashrate():\n",
    "    return float(df.hash_rate.tail(1).values)\n",
    "def get_latest_tx_fees():\n",
    "    return float(df.fee_mean_ntv.tail(1).values[0])"
   ],
   "outputs": [],
   "metadata": {}
  },
  {
   "cell_type": "markdown",
   "source": [
    "https://www.aniccaresearch.tech/blog/the-alchemy-of-hashpower-part-i\n",
    "\n",
    "D = C / [P * S/H * (m+n) * 6 * 24 - k * S * r * 24]"
   ],
   "metadata": {}
  },
  {
   "cell_type": "code",
   "execution_count": 44,
   "source": [
    "# Calculating days to break even for one S19j Pro \n",
    "capex       = 5_500 * ureg.USD\n",
    "opex        = 0.1   * ureg.USD / ureg.kWh\n",
    "asset_price = get_latest_price() * ureg.USD / ureg.BTC\n",
    "\n",
    "miner_hashrate   = 96 * ureg.TH / ureg.second  \n",
    "network_hashrate = get_latest_hashrate() * ureg.TH / ureg.s\n",
    "miner_efficency  = 29.5 * ureg.J / ureg.TH \n",
    "hashrate_share = miner_hashrate.to('hashes / second') / network_hashrate.to('hashes / second')\n",
    "\n",
    "subsidy      = 6.25 * ureg.BTC / ureg.BTC_block\n",
    "tx_fees      = get_latest_tx_fees() * ureg.BTC / ureg.BTC_block\n",
    "block_reward = subsidy + tx_fees\n",
    "blocks       = 144 * ureg.BTC_block / ureg.day\n",
    "\n",
    "profits = asset_price * hashrate_share * block_reward * blocks\n",
    "losses  = miner_efficency.to('kWh / terahashes') * miner_hashrate.to('terahashes / day') * opex \n",
    "break_even = capex / (profits - losses)\n",
    "\n",
    "print(f'{break_even} to break even with one S19j Pro with Income {profits} and Electricity Costs {losses}')\n"
   ],
   "outputs": [
    {
     "output_type": "stream",
     "name": "stdout",
     "text": [
      "208.58 day to break even with one S19j Pro with Income 33.17 USD / day and Electricity Costs 6.80 USD / day\n"
     ]
    }
   ],
   "metadata": {}
  }
 ],
 "metadata": {
  "kernelspec": {
   "display_name": "Python 3",
   "language": "python",
   "name": "python3"
  },
  "language_info": {
   "codemirror_mode": {
    "name": "ipython",
    "version": 3
   },
   "file_extension": ".py",
   "mimetype": "text/x-python",
   "name": "python",
   "nbconvert_exporter": "python",
   "pygments_lexer": "ipython3",
   "version": "3.8.5"
  },
  "orig_nbformat": 4
 },
 "nbformat": 4,
 "nbformat_minor": 2
}