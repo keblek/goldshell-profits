{
 "cells": [
  {
   "cell_type": "code",
   "execution_count": 43,
   "source": [
    "import requests\n",
    "from datetime import date\n",
    "import pandas as pd\n",
    "import matplotlib.pyplot as plt\n",
    "import klib\n",
    "from pint import UnitRegistry\n",
    "\n",
    "ureg = UnitRegistry()\n",
    "ureg.default_format = '.2f'\n",
    "ureg.load_definitions('crypto_mining_units.txt')\n",
    "\n",
    "pd.set_option(\"display.max.columns\", None)\n"
   ],
   "outputs": [],
   "metadata": {}
  },
  {
   "cell_type": "code",
   "execution_count": 46,
   "source": [
    "def get_network_data(asset: str, metrics: list = ['HashRate', 'IssTotUSD', 'FeeTotUSD', 'PriceUSD', 'FeeMeanNtv'], end_time: str = date.today().strftime('%Y-%m-%d')):\n",
    "    api_str = f\"https://community-api.coinmetrics.io/v4/timeseries/asset-metrics?assets={asset}&metrics={','.join(metrics)}&end_time={end_time}&page_size=10000&pretty=true\"\n",
    "    print(api_str)\n",
    "    response = requests.get(api_str).json()\n",
    "    return pd.DataFrame(response['data'])"
   ],
   "outputs": [],
   "metadata": {}
  },
  {
   "cell_type": "code",
   "execution_count": 47,
   "source": [
    "df_unclean = get_network_data(\"btc\", ['HashRate', 'PriceUSD', 'FeeMeanNtv']).fillna(\"0\")\n",
    "\n",
    "df_cleaned = klib.data_cleaning(df_unclean)\n",
    "\n",
    "df_cleaned.time = df_cleaned.time.str.replace(\"T00:00:00.000000000Z\", \"\")\n",
    "df_cleaned.time = pd.to_datetime(df_cleaned.time)\n",
    "\n",
    "df_cleaned[['hash_rate', 'price_usd']] =  df_cleaned[['hash_rate', 'price_usd']].apply(pd.to_numeric)\n",
    "\n",
    "df_cleaned.index = df_cleaned.time\n",
    "df_cleaned.drop(columns=['time'], inplace=True)\n",
    "\n",
    "df_cleaned.dtypes\n",
    "df = df_cleaned\n",
    "df.to_csv(\"hell\")\n",
    "df"
   ],
   "outputs": [
    {
     "output_type": "stream",
     "name": "stdout",
     "text": [
      "https://community-api.coinmetrics.io/v4/timeseries/asset-metrics?assets=btc&metrics=HashRate,PriceUSD,FeeMeanNtv&end_time=2021-07-12&page_size=10000&pretty=true\n"
     ]
    },
    {
     "output_type": "error",
     "ename": "KeyError",
     "evalue": "'data'",
     "traceback": [
      "\u001b[0;31m---------------------------------------------------------------------------\u001b[0m",
      "\u001b[0;31mKeyError\u001b[0m                                  Traceback (most recent call last)",
      "\u001b[0;32m<ipython-input-47-6df3f6ba7f8c>\u001b[0m in \u001b[0;36m<module>\u001b[0;34m\u001b[0m\n\u001b[0;32m----> 1\u001b[0;31m \u001b[0mdf_unclean\u001b[0m \u001b[0;34m=\u001b[0m \u001b[0mget_network_data\u001b[0m\u001b[0;34m(\u001b[0m\u001b[0;34m\"btc\"\u001b[0m\u001b[0;34m,\u001b[0m \u001b[0;34m[\u001b[0m\u001b[0;34m'HashRate'\u001b[0m\u001b[0;34m,\u001b[0m \u001b[0;34m'PriceUSD'\u001b[0m\u001b[0;34m,\u001b[0m \u001b[0;34m'FeeMeanNtv'\u001b[0m\u001b[0;34m]\u001b[0m\u001b[0;34m)\u001b[0m\u001b[0;34m.\u001b[0m\u001b[0mfillna\u001b[0m\u001b[0;34m(\u001b[0m\u001b[0;34m\"0\"\u001b[0m\u001b[0;34m)\u001b[0m\u001b[0;34m\u001b[0m\u001b[0;34m\u001b[0m\u001b[0m\n\u001b[0m\u001b[1;32m      2\u001b[0m \u001b[0;34m\u001b[0m\u001b[0m\n\u001b[1;32m      3\u001b[0m \u001b[0mdf_cleaned\u001b[0m \u001b[0;34m=\u001b[0m \u001b[0mklib\u001b[0m\u001b[0;34m.\u001b[0m\u001b[0mdata_cleaning\u001b[0m\u001b[0;34m(\u001b[0m\u001b[0mdf_unclean\u001b[0m\u001b[0;34m)\u001b[0m\u001b[0;34m\u001b[0m\u001b[0;34m\u001b[0m\u001b[0m\n\u001b[1;32m      4\u001b[0m \u001b[0;34m\u001b[0m\u001b[0m\n\u001b[1;32m      5\u001b[0m \u001b[0mdf_cleaned\u001b[0m\u001b[0;34m.\u001b[0m\u001b[0mtime\u001b[0m \u001b[0;34m=\u001b[0m \u001b[0mdf_cleaned\u001b[0m\u001b[0;34m.\u001b[0m\u001b[0mtime\u001b[0m\u001b[0;34m.\u001b[0m\u001b[0mstr\u001b[0m\u001b[0;34m.\u001b[0m\u001b[0mreplace\u001b[0m\u001b[0;34m(\u001b[0m\u001b[0;34m\"T00:00:00.000000000Z\"\u001b[0m\u001b[0;34m,\u001b[0m \u001b[0;34m\"\"\u001b[0m\u001b[0;34m)\u001b[0m\u001b[0;34m\u001b[0m\u001b[0;34m\u001b[0m\u001b[0m\n",
      "\u001b[0;32m<ipython-input-46-8d35ea4eeb8f>\u001b[0m in \u001b[0;36mget_network_data\u001b[0;34m(asset, metrics, end_time)\u001b[0m\n\u001b[1;32m      3\u001b[0m     \u001b[0mprint\u001b[0m\u001b[0;34m(\u001b[0m\u001b[0mapi_str\u001b[0m\u001b[0;34m)\u001b[0m\u001b[0;34m\u001b[0m\u001b[0;34m\u001b[0m\u001b[0m\n\u001b[1;32m      4\u001b[0m     \u001b[0mresponse\u001b[0m \u001b[0;34m=\u001b[0m \u001b[0mrequests\u001b[0m\u001b[0;34m.\u001b[0m\u001b[0mget\u001b[0m\u001b[0;34m(\u001b[0m\u001b[0mapi_str\u001b[0m\u001b[0;34m)\u001b[0m\u001b[0;34m.\u001b[0m\u001b[0mjson\u001b[0m\u001b[0;34m(\u001b[0m\u001b[0;34m)\u001b[0m\u001b[0;34m\u001b[0m\u001b[0;34m\u001b[0m\u001b[0m\n\u001b[0;32m----> 5\u001b[0;31m     \u001b[0;32mreturn\u001b[0m \u001b[0mpd\u001b[0m\u001b[0;34m.\u001b[0m\u001b[0mDataFrame\u001b[0m\u001b[0;34m(\u001b[0m\u001b[0mresponse\u001b[0m\u001b[0;34m[\u001b[0m\u001b[0;34m'data'\u001b[0m\u001b[0;34m]\u001b[0m\u001b[0;34m)\u001b[0m\u001b[0;34m\u001b[0m\u001b[0;34m\u001b[0m\u001b[0m\n\u001b[0m",
      "\u001b[0;31mKeyError\u001b[0m: 'data'"
     ]
    }
   ],
   "metadata": {}
  },
  {
   "cell_type": "code",
   "execution_count": 39,
   "source": [
    "def get_latest_price():\n",
    "    return float(df.price_usd.tail(1).values)\n",
    "def get_latest_hashrate():\n",
    "    return float(df.hash_rate.tail(1).values)\n",
    "def get_latest_tx_fees():\n",
    "    return float(df.fee_mean_ntv.tail(1).values[0])"
   ],
   "outputs": [],
   "metadata": {}
  },
  {
   "cell_type": "markdown",
   "source": [
    "https://www.aniccaresearch.tech/blog/the-alchemy-of-hashpower-part-i\n",
    "\n",
    "D = C / [P * S/H * (m+n) * 6 * 24 - k * S * r * 24]"
   ],
   "metadata": {}
  },
  {
   "cell_type": "code",
   "execution_count": 44,
   "source": [
    "# Calculating days to break even for one S19j Pro \n",
    "capex       = 5_500 * ureg.USD\n",
    "opex        = 0.1   * ureg.USD / ureg.kWh\n",
    "asset_price = get_latest_price() * ureg.USD / ureg.BTC\n",
    "\n",
    "miner_hashrate   = 96 * ureg.TH / ureg.second  \n",
    "network_hashrate = get_latest_hashrate() * ureg.TH / ureg.s\n",
    "miner_efficency  = 29.5 * ureg.J / ureg.TH \n",
    "hashrate_share   = miner_hashrate.to('hashes / second') / network_hashrate.to('hashes / second')\n",
    "\n",
    "subsidy      = 6.25 * ureg.BTC / ureg.BTC_block\n",
    "tx_fees      = get_latest_tx_fees() * ureg.BTC / ureg.BTC_block\n",
    "block_reward = subsidy + tx_fees\n",
    "blocks       = 144 * ureg.BTC_block / ureg.day\n",
    "\n",
    "profits    = asset_price * hashrate_share * block_reward * blocks\n",
    "losses     = miner_efficency.to('kWh / terahashes') * miner_hashrate.to('terahashes / day') * opex \n",
    "break_even = capex / (profits - losses)\n",
    "\n",
    "print(f'{break_even} to break even with one S19j Pro with Income {profits} and Electricity Costs {losses}')\n"
   ],
   "outputs": [
    {
     "output_type": "stream",
     "name": "stdout",
     "text": [
      "208.58 day to break even with one S19j Pro with Income 33.17 USD / day and Electricity Costs 6.80 USD / day\n"
     ]
    }
   ],
   "metadata": {}
  }
 ],
 "metadata": {
  "kernelspec": {
   "display_name": "Python 3",
   "language": "python",
   "name": "python3"
  },
  "language_info": {
   "codemirror_mode": {
    "name": "ipython",
    "version": 3
   },
   "file_extension": ".py",
   "mimetype": "text/x-python",
   "name": "python",
   "nbconvert_exporter": "python",
   "pygments_lexer": "ipython3",
   "version": "3.8.5"
  },
  "orig_nbformat": 4
 },
 "nbformat": 4,
 "nbformat_minor": 2
}