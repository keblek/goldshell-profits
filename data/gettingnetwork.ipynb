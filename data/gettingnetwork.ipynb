{
 "cells": [
  {
   "cell_type": "code",
   "execution_count": 57,
   "metadata": {},
   "outputs": [],
   "source": [
    "import requests\n",
    "from datetime import date\n",
    "import pandas as pd\n",
    "import matplotlib.pyplot as plt\n",
    "import klib\n",
    "\n",
    "pd.set_option(\"display.max.columns\", None)\n",
    "\n",
    "def get_network_data(asset: str, metrics: list = ['HashRate', 'IssTotUSD', 'FeeTotUSD', 'PriceUSD', 'FeeMeanNtv'], end_time: str = date.today().strftime('%Y-%m-%d')):\n",
    "    api_str = f\"https://community-api.coinmetrics.io/v4/timeseries/asset-metrics?assets={asset}&metrics={','.join(metrics)}&end_time={end_time}&page_size=10000&pretty=true\"\n",
    "    response = requests.get(api_str).json()\n",
    "    return pd.DataFrame(response['data'])"
   ]
  },
  {
   "cell_type": "code",
   "execution_count": null,
   "metadata": {},
   "outputs": [],
   "source": [
    "df_unclean = get_network_data(\"ltc\", ['HashRate', 'PriceUSD']).fillna(\"0\")\n",
    "\n",
    "df_cleaned = klib.data_cleaning(df_unclean)\n",
    "\n",
    "df_cleaned.time = df_cleaned.time.str.replace(\"T00:00:00.000000000Z\", \"\")\n",
    "df_cleaned.time = pd.to_datetime(df_cleaned.time)\n",
    "\n",
    "df_cleaned[['hash_rate', 'price_usd']] =  df_cleaned[['hash_rate', 'price_usd']].apply(pd.to_numeric)\n",
    "\n",
    "df_cleaned.index = df_cleaned.time\n",
    "df_cleaned.drop(columns=['time'], inplace=True)\n",
    "\n",
    "df_cleaned.dtypes\n",
    "df = df_cleaned\n",
    "df"
   ]
  },
  {
   "cell_type": "code",
   "execution_count": 63,
   "metadata": {},
   "outputs": [
    {
     "name": "stdout",
     "output_type": "stream",
     "text": [
      "297.29697589516127\n"
     ]
    }
   ],
   "source": [
    "# how many days it takes to pay off the machine\n",
    "# D is the static days-to-breakeven\n",
    "# cost of histing and machines\n",
    "# C is the upfront capital expenditure \n",
    "# P is the current Litecoin price\n",
    "# S is hashrate produced by the purchased equipments\n",
    "# H is the network hashrate\n",
    "# m is the coinbase reward, currently it is 6.25BTC.\n",
    "# n is the current avg. transaction fee per block\n",
    "# k is the efficiency (J/T) of the equipments\n",
    "# r is the all-in electricity cost ($/KwH)\n",
    "C = 5_000\n",
    "P = 150\n",
    "# Goldshell LT5 Pro MH/s\n",
    "S = 2050\n",
    "H = 216 * 1000000\n",
    "m = 100\n",
    "n = 1\n",
    "k = 0.00079\n",
    "r = 0.1\n",
    "# Bitmain L7 | 9.5GH@3425W = .002774 rating (360W per GH)\n",
    "# Goldshell LT5 | 2.05GH@2150W = .000953 rating (1048W per GH)\n",
    "# Goldshell LT5 Pro | 2.45@3100W = .00079 rating (1265W per GH)\n",
    "# days to break even mining litecoin on a goldshell LT5 Pro\n",
    "denominator = P * (S/H) * (m + n) * 6 * 24 - k * S * r * 24\n",
    "print(C/denominator)"
   ]
  }
 ],
 "metadata": {
  "kernelspec": {
   "display_name": "Python 3",
   "language": "python",
   "name": "python3"
  },
  "language_info": {
   "codemirror_mode": {
    "name": "ipython",
    "version": 3
   },
   "file_extension": ".py",
   "mimetype": "text/x-python",
   "name": "python",
   "nbconvert_exporter": "python",
   "pygments_lexer": "ipython3",
   "version": "3.8.5"
  },
  "orig_nbformat": 4
 },
 "nbformat": 4,
 "nbformat_minor": 2
}